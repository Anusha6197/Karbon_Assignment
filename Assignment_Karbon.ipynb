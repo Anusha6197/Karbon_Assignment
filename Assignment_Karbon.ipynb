{
  "nbformat": 4,
  "nbformat_minor": 0,
  "metadata": {
    "colab": {
      "name": "Assignment_Karbon.ipynb",
      "provenance": [],
      "collapsed_sections": []
    },
    "kernelspec": {
      "name": "python3",
      "display_name": "Python 3"
    },
    "language_info": {
      "name": "python"
    }
  },
  "cells": [
    {
      "cell_type": "markdown",
      "source": [
        "Problem 1"
      ],
      "metadata": {
        "id": "PVSGJXbM9vsT"
      }
    },
    {
      "cell_type": "code",
      "execution_count": 1,
      "metadata": {
        "id": "R-C5AVuXqEOd"
      },
      "outputs": [],
      "source": [
        "def replace_zero_mean(a):\n",
        "  import numpy as np\n",
        "  aT = list(zip(*a))\n",
        "  mean = [np.mean([ele for ele in x if ele!=0]) for x in aT]\n",
        "  res = [[mean[i] if i==0 else i for i in ele ] for ele in aT]\n",
        "  return np.array(list(zip(*res)))"
      ]
    },
    {
      "cell_type": "code",
      "source": [
        "## Test case 1\n",
        "a = [[1,2,0],[0,1,1],[5,6,5]]\n",
        "a1 = replace_zero_mean(a)\n",
        "a1\n",
        "# aT = list(zip(*a))\n",
        "# mean = [np.mean([ele for ele in x if ele!=0]) for x in aT]\n",
        "# res = [[mean[i] if i==0 else i for i in ele ] for ele in aT]\n",
        "# np.array(list(zip(*res)))"
      ],
      "metadata": {
        "colab": {
          "base_uri": "https://localhost:8080/"
        },
        "id": "GNP45wcGqZzz",
        "outputId": "13964385-3bc6-4ab1-cb05-c9f2f8c1f859"
      },
      "execution_count": 2,
      "outputs": [
        {
          "output_type": "execute_result",
          "data": {
            "text/plain": [
              "array([[1., 2., 3.],\n",
              "       [3., 1., 1.],\n",
              "       [5., 6., 5.]])"
            ]
          },
          "metadata": {},
          "execution_count": 2
        }
      ]
    },
    {
      "cell_type": "code",
      "source": [
        "def normalise(a1):\n",
        "  import numpy as np\n",
        "  t =  list(zip(*a1)) \n",
        "  final_t = []\n",
        "  for i in range(len(t)):\n",
        "    mean,std = np.mean(t[i]), np.std(t[i])\n",
        "    final_t.append((np.array(t[i])-mean)/std)\n",
        "  final = np.array(list(zip(*final_t)))\n",
        "  return final\n",
        "\n",
        "normalise_a1 = normalise(a1)\n",
        "normalise_a1"
      ],
      "metadata": {
        "colab": {
          "base_uri": "https://localhost:8080/"
        },
        "id": "Uodns48-qsdX",
        "outputId": "58f636ef-ec5f-4fd2-d755-dab577808dbd"
      },
      "execution_count": 7,
      "outputs": [
        {
          "output_type": "execute_result",
          "data": {
            "text/plain": [
              "array([[-1.22474487, -0.46291005,  0.        ],\n",
              "       [ 0.        , -0.9258201 , -1.22474487],\n",
              "       [ 1.22474487,  1.38873015,  1.22474487]])"
            ]
          },
          "metadata": {},
          "execution_count": 7
        }
      ]
    },
    {
      "cell_type": "markdown",
      "source": [
        "Problem 2"
      ],
      "metadata": {
        "id": "BoYe69ZVzlMv"
      }
    },
    {
      "cell_type": "code",
      "source": [
        "## Function\n",
        "def correction(json):\n",
        "  import re\n",
        "  strng =  json[\"description\"]\n",
        "  print(strng)\n",
        "  regex = re.compile(\"((1-bedroom|studio))\\s(yoga|art|dance)\\w*\")\n",
        "  match_object = regex.findall(strng)\n",
        "  if len(match_object)>0:\n",
        "    if len(set(match_object[0]))>=2:\n",
        "      json[\"num_bedrooms\"] = None ## don't consider it for num_bedrooms value)\n",
        "  else:\n",
        "    if [ele for ele in re.findall(\"(1-bedroom|studio)? \",strng) if ele!=''][0]==\"1-bedroom\":\n",
        "      json[\"num_bedrooms\"] = 1\n",
        "    elif [ele for ele in re.findall(\"(1-bedroom|studio)? \",strng) if ele!=''][0]==\"studio\":\n",
        "      json[\"num_bedrooms\"] = 0\n",
        "  return json"
      ],
      "metadata": {
        "id": "CWMPXCru9bM3"
      },
      "execution_count": 4,
      "outputs": []
    },
    {
      "cell_type": "code",
      "source": [
        "## Input file\n",
        "json_file = [\n",
        "    {\n",
        "        \"id\": \"1\",\n",
        "        \"agent\": \"Radulf Katlego\",\n",
        "        \"unit\": \"#3\",\n",
        "        \"description\": \"This luxurious studio apartment is in the heart of downtown.\",\n",
        "        \"num_bedrooms\": 1\n",
        "    },\n",
        "    {\n",
        "        \"id\": \"2\",\n",
        "        \"agent\": \"Kelemen Konrad\",\n",
        "        \"unit\": \"#36\",\n",
        "        \"description\": \"We have a 1-bedroom available on the third floor.\",\n",
        "        \"num_bedrooms\": 1\n",
        "    },\n",
        "    {\n",
        "        \"id\": \"3\",\n",
        "        \"agent\": \"Ton Jett\",\n",
        "        \"unit\": \"#12\",\n",
        "        \"description\": \"Beautiful 1-bedroom apartment with nearby yoga studio.\",\n",
        "        \"num_bedrooms\": 1\n",
        "    },\n",
        "    {\n",
        "        \"id\": \"4\",\n",
        "        \"agent\": \"Fishel Salman\",\n",
        "        \"unit\": \"#13\",\n",
        "        \"description\": \"Beautiful studio with a nearby art studio.\",\n",
        "        \"num_bedrooms\": 1\n",
        "    }\n",
        "]\n"
      ],
      "metadata": {
        "id": "MCgzy2162von"
      },
      "execution_count": 5,
      "outputs": []
    },
    {
      "cell_type": "code",
      "source": [
        "json_file_new = []\n",
        "for file in json_file:\n",
        "  json_file_new.append(correction(file))\n",
        "\n",
        "## Output\n",
        "json_file_new"
      ],
      "metadata": {
        "colab": {
          "base_uri": "https://localhost:8080/"
        },
        "id": "shVnUBle5Q0m",
        "outputId": "ba572309-9b2b-47f1-d270-e894c80b5592"
      },
      "execution_count": 6,
      "outputs": [
        {
          "output_type": "stream",
          "name": "stdout",
          "text": [
            "This luxurious studio apartment is in the heart of downtown.\n",
            "We have a 1-bedroom available on the third floor.\n",
            "Beautiful 1-bedroom apartment with nearby yoga studio.\n",
            "Beautiful studio with a nearby art studio.\n"
          ]
        },
        {
          "output_type": "execute_result",
          "data": {
            "text/plain": [
              "[{'agent': 'Radulf Katlego',\n",
              "  'description': 'This luxurious studio apartment is in the heart of downtown.',\n",
              "  'id': '1',\n",
              "  'num_bedrooms': 0,\n",
              "  'unit': '#3'},\n",
              " {'agent': 'Kelemen Konrad',\n",
              "  'description': 'We have a 1-bedroom available on the third floor.',\n",
              "  'id': '2',\n",
              "  'num_bedrooms': 1,\n",
              "  'unit': '#36'},\n",
              " {'agent': 'Ton Jett',\n",
              "  'description': 'Beautiful 1-bedroom apartment with nearby yoga studio.',\n",
              "  'id': '3',\n",
              "  'num_bedrooms': 1,\n",
              "  'unit': '#12'},\n",
              " {'agent': 'Fishel Salman',\n",
              "  'description': 'Beautiful studio with a nearby art studio.',\n",
              "  'id': '4',\n",
              "  'num_bedrooms': 0,\n",
              "  'unit': '#13'}]"
            ]
          },
          "metadata": {},
          "execution_count": 6
        }
      ]
    },
    {
      "cell_type": "code",
      "source": [
        ""
      ],
      "metadata": {
        "id": "hpuW_s9S60Il"
      },
      "execution_count": 6,
      "outputs": []
    },
    {
      "cell_type": "code",
      "source": [
        ""
      ],
      "metadata": {
        "id": "3XrmHUvW78wp"
      },
      "execution_count": 6,
      "outputs": []
    }
  ]
}